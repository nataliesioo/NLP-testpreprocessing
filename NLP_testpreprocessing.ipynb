{
  "nbformat": 4,
  "nbformat_minor": 0,
  "metadata": {
    "colab": {
      "name": "NLP-testpreprocessing.ipynb",
      "provenance": [],
      "collapsed_sections": [],
      "authorship_tag": "ABX9TyOEPjRMVy5RvF9zowayJJwH",
      "include_colab_link": true
    },
    "kernelspec": {
      "name": "python3",
      "display_name": "Python 3"
    }
  },
  "cells": [
    {
      "cell_type": "markdown",
      "metadata": {
        "id": "view-in-github",
        "colab_type": "text"
      },
      "source": [
        "<a href=\"https://colab.research.google.com/github/nataliesioo/NLP-text-preprocessing/blob/master/NLP_testpreprocessing.ipynb\" target=\"_parent\"><img src=\"https://colab.research.google.com/assets/colab-badge.svg\" alt=\"Open In Colab\"/></a>"
      ]
    },
    {
      "cell_type": "markdown",
      "metadata": {
        "id": "XpRGeDvcl96y",
        "colab_type": "text"
      },
      "source": [
        "### 전처리? \n",
        "\n",
        "Tokenization 分詞\n",
        "* 단어/문장 단위로 split함 \n",
        "\n",
        "Normalization\n",
        "* 표현 방법 통일화\n",
        "\n",
        "Cleaning\n",
        "* 노이즈 제거 \n",
        "\n",
        "Stemming 斷尾\n",
        "* 어간(의미 가진 부분)만 추출 \n",
        "\n",
        "Lemmatization\n",
        "* 원형으로 전환\n",
        "\n",
        "Stopword (불용어)\n",
        "* 의미 없는 단어 제거 (나,너,은,이,가...)"
      ]
    },
    {
      "cell_type": "markdown",
      "metadata": {
        "id": "AyUYwRQ6NdIJ",
        "colab_type": "text"
      },
      "source": [
        "# **어절분리** (Word Tokenize)\n",
        "\n",
        "\n"
      ]
    },
    {
      "cell_type": "code",
      "metadata": {
        "id": "Ft4zSM27M4E-",
        "colab_type": "code",
        "outputId": "89970301-a76c-4af9-ab16-d11b276f5cfe",
        "colab": {
          "base_uri": "https://localhost:8080/",
          "height": 68
        }
      },
      "source": [
        "import nltk\n",
        "nltk.download('punkt')  #download corpus \n",
        "\n",
        "sentences = \"Hello World\"\n",
        "tokens = nltk.word_tokenize(sentences) #分詞\n",
        "print(tokens)"
      ],
      "execution_count": 3,
      "outputs": [
        {
          "output_type": "stream",
          "text": [
            "[nltk_data] Downloading package punkt to /root/nltk_data...\n",
            "[nltk_data]   Unzipping tokenizers/punkt.zip.\n",
            "['Hello', 'World']\n"
          ],
          "name": "stdout"
        }
      ]
    },
    {
      "cell_type": "markdown",
      "metadata": {
        "id": "_AkbFbxfN-mY",
        "colab_type": "text"
      },
      "source": [
        "# **문장 분리** (Sentence Tokenize)\n",
        "\n",
        "\n"
      ]
    },
    {
      "cell_type": "code",
      "metadata": {
        "id": "of0jRSzIOBMm",
        "colab_type": "code",
        "outputId": "ac5afd08-a1b4-4e04-8ddf-b5875554c96f",
        "colab": {
          "base_uri": "https://localhost:8080/",
          "height": 68
        }
      },
      "source": [
        "import nltk\n",
        "nltk.download ('punkt')\n",
        "\n",
        "sentence = \"My name is Natalie. How old are you?\"\n",
        "sen = nltk.sent_tokenize(sentence) #分sentence \n",
        "print(sen)"
      ],
      "execution_count": 4,
      "outputs": [
        {
          "output_type": "stream",
          "text": [
            "[nltk_data] Downloading package punkt to /root/nltk_data...\n",
            "[nltk_data]   Package punkt is already up-to-date!\n",
            "['My name is Natalie.', 'How old are you?']\n"
          ],
          "name": "stdout"
        }
      ]
    },
    {
      "cell_type": "markdown",
      "metadata": {
        "id": "YSxIw8OoOmxM",
        "colab_type": "text"
      },
      "source": [
        "# **형태소**\n",
        "입력: 어절단위로 들어감? (分詞결과 = 입력)\n",
        "\n",
        "결과: tokenize+pos tag?\n",
        "\n",
        "\n"
      ]
    },
    {
      "cell_type": "code",
      "metadata": {
        "id": "zyNdRs7IOnCA",
        "colab_type": "code",
        "outputId": "30dc36c3-b2c2-4f84-d5ed-57c04dc47b7d",
        "colab": {
          "base_uri": "https://localhost:8080/",
          "height": 165
        }
      },
      "source": [
        "import nltk\n",
        "nltk.download ('averaged_perceptron_tagger')\n",
        "\n",
        "sen = \"my name is apple and i am 100 years old my major is natural language processing\"\n",
        "\n",
        "tokens = nltk.word_tokenize(sen) #tokenize\n",
        "tagged = nltk.pos_tag(tokens) #pos tag \n",
        "\n",
        "print(tagged) \n"
      ],
      "execution_count": 5,
      "outputs": [
        {
          "output_type": "stream",
          "text": [
            "[nltk_data] Downloading package averaged_perceptron_tagger to\n",
            "[nltk_data]     /root/nltk_data...\n",
            "[nltk_data]   Unzipping taggers/averaged_perceptron_tagger.zip.\n",
            "[('my', 'PRP$'), ('name', 'NN'), ('is', 'VBZ'), ('apple', 'NN'), ('and', 'CC'), ('i', 'NN'), ('am', 'VBP'), ('100', 'CD'), ('years', 'NNS'), ('old', 'JJ'), ('my', 'PRP$'), ('major', 'JJ'), ('is', 'VBZ'), ('natural', 'JJ'), ('language', 'NN'), ('processing', 'NN')]\n"
          ],
          "name": "stdout"
        }
      ]
    },
    {
      "cell_type": "markdown",
      "metadata": {
        "id": "9LacBGamPyr3",
        "colab_type": "text"
      },
      "source": [
        "# **개체먕 인식** (Name Entity Recognition) \n",
        "* 사람, 조직, 장소, 이름 등 개체를 인식\n",
        "* Relation Extraction = 개체명 간의 관계 추출 "
      ]
    },
    {
      "cell_type": "code",
      "metadata": {
        "id": "bn4CGFqAPy0e",
        "colab_type": "code",
        "outputId": "3c170f18-77b5-4574-e206-8aee73ea0425",
        "colab": {
          "base_uri": "https://localhost:8080/",
          "height": 238
        }
      },
      "source": [
        "import nltk\n",
        "nltk.download('maxent_ne_chunker')\n",
        "nltk.download('words')\n",
        "\n",
        "sen = \"Apple is studying at Standford University in California\"\n",
        "\n",
        "tokens = nltk.word_tokenize(sen)\n",
        "tagged = nltk.pos_tag(tokens)\n",
        "entities = nltk.chunk.ne_chunk(tagged)\n",
        "\n",
        "print(entities)"
      ],
      "execution_count": 6,
      "outputs": [
        {
          "output_type": "stream",
          "text": [
            "[nltk_data] Downloading package maxent_ne_chunker to\n",
            "[nltk_data]     /root/nltk_data...\n",
            "[nltk_data]   Unzipping chunkers/maxent_ne_chunker.zip.\n",
            "[nltk_data] Downloading package words to /root/nltk_data...\n",
            "[nltk_data]   Unzipping corpora/words.zip.\n",
            "(S\n",
            "  (GPE Apple/NNP)\n",
            "  is/VBZ\n",
            "  studying/VBG\n",
            "  at/IN\n",
            "  (ORGANIZATION Standford/NNP University/NNP)\n",
            "  in/IN\n",
            "  (GPE California/NNP))\n"
          ],
          "name": "stdout"
        }
      ]
    },
    {
      "cell_type": "markdown",
      "metadata": {
        "id": "nWx0-0FFQpJ1",
        "colab_type": "text"
      },
      "source": [
        "# **Edit Distance**\n",
        "두 글자의 차이 찾는 것\n",
        "\n",
        "insertion/deletion/substitution"
      ]
    },
    {
      "cell_type": "code",
      "metadata": {
        "id": "UgAN7T2pQpom",
        "colab_type": "code",
        "outputId": "c0236b00-c4c0-4dd6-cc7c-b4cd3e5129dd",
        "colab": {
          "base_uri": "https://localhost:8080/",
          "height": 51
        }
      },
      "source": [
        "import nltk\n",
        "from nltk.metrics import edit_distance\n",
        "\n",
        "print(edit_distance('CAT','HAT'))\n",
        "print(edit_distance('difficult','different'))\n",
        "\n"
      ],
      "execution_count": 11,
      "outputs": [
        {
          "output_type": "stream",
          "text": [
            "1\n",
            "4\n"
          ],
          "name": "stdout"
        }
      ]
    },
    {
      "cell_type": "markdown",
      "metadata": {
        "id": "FN8BaHN6RhIa",
        "colab_type": "text"
      },
      "source": [
        "# **Stemming** (어간 추출)\n",
        "의미 있는 부분만 추출\n"
      ]
    },
    {
      "cell_type": "code",
      "metadata": {
        "id": "Uk8kN9WoRqZ3",
        "colab_type": "code",
        "outputId": "581458a3-e823-4d64-aca3-c68cca09a6d7",
        "colab": {
          "base_uri": "https://localhost:8080/",
          "height": 51
        }
      },
      "source": [
        "import nltk\n",
        "from nltk.stem import PorterStemmer\n",
        "\n",
        "pst = PorterStemmer() #객체? 생선\n",
        "\n",
        "print(pst.stem('computers'))\n",
        "print(pst.stem('going'))"
      ],
      "execution_count": 8,
      "outputs": [
        {
          "output_type": "stream",
          "text": [
            "comput\n",
            "go\n"
          ],
          "name": "stdout"
        }
      ]
    },
    {
      "cell_type": "markdown",
      "metadata": {
        "id": "ooVjB8ZESDKY",
        "colab_type": "text"
      },
      "source": [
        "# **Lemmatization**\n",
        "* 단어의 원형"
      ]
    },
    {
      "cell_type": "code",
      "metadata": {
        "id": "XllISy6pSCjZ",
        "colab_type": "code",
        "outputId": "8fb8608d-46a7-4cf8-e8c4-18375e725924",
        "colab": {
          "base_uri": "https://localhost:8080/",
          "height": 119
        }
      },
      "source": [
        "from nltk.stem import WordNetLemmatizer\n",
        "import nltk\n",
        "nltk.download('wordnet')\n",
        "\n",
        "wlem= WordNetLemmatizer()\n",
        "\n",
        "print(wlem.lemmatize(\"ate\",pos = 'v'))\n",
        "print(wlem.lemmatize(\"done\",pos = 'v'))\n",
        "print(wlem.lemmatize(\"went\",pos = 'v'))\n",
        "print(wlem.lemmatize(\"are\",pos = 'v'))\n"
      ],
      "execution_count": 9,
      "outputs": [
        {
          "output_type": "stream",
          "text": [
            "[nltk_data] Downloading package wordnet to /root/nltk_data...\n",
            "[nltk_data]   Unzipping corpora/wordnet.zip.\n",
            "eat\n",
            "do\n",
            "go\n",
            "be\n"
          ],
          "name": "stdout"
        }
      ]
    },
    {
      "cell_type": "markdown",
      "metadata": {
        "id": "_S74gwGMTQmv",
        "colab_type": "text"
      },
      "source": [
        "# **Stopword**\n",
        "* 의미 없는 단어들, 전처리 단계에서 제거해야하는 것들\n",
        "* nltk에서 이미 정해준 불용어 셋이 있음"
      ]
    },
    {
      "cell_type": "code",
      "metadata": {
        "id": "MjOK33IPTRjC",
        "colab_type": "code",
        "outputId": "ea2e3bac-da3b-438f-aac3-f3348e4d5f75",
        "colab": {
          "base_uri": "https://localhost:8080/",
          "height": 142
        }
      },
      "source": [
        "import nltk\n",
        "from nltk.corpus import stopwords\n",
        "nltk.download('stopwords')\n",
        "\n",
        "stop_eng = set(stopwords.words('english')) # 불용어 불러엄\n",
        "print(stop_eng)\n",
        "\n",
        "sen = \"I want to make some Instagram filters then go out to have a walk\"\n",
        "tokens = nltk.word_tokenize(sen) # 불용어 제거하고 싶은 문장 먼저 토큰화\n",
        "\n",
        "clean_tokens= []\n",
        "for tok in tokens:\n",
        "  if len(tok.lower())>1 and (tok.lower() not in stop_eng): #소문자 시켜주고, 불용어에 없는 것 출력\n",
        "    clean_tokens.append(tok)\n",
        "\n",
        "print(\"불용어 포함: \", tokens)\n",
        "print(\"불용어 미포함: \", clean_tokens)"
      ],
      "execution_count": 12,
      "outputs": [
        {
          "output_type": "stream",
          "text": [
            "[nltk_data] Downloading package stopwords to /root/nltk_data...\n",
            "[nltk_data]   Package stopwords is already up-to-date!\n",
            "{'our', \"mustn't\", 'hers', 'having', 'be', 'to', \"didn't\", \"it's\", \"couldn't\", 'do', 'doesn', 'not', 'own', 'both', 'these', \"hadn't\", 'isn', \"don't\", 'is', 'under', 'if', 'an', 'your', 'was', 'can', \"isn't\", \"wouldn't\", 'same', 'theirs', 'yours', 'than', \"you're\", 'o', 'didn', 'y', 'more', 'haven', 'it', 'ain', 'those', 'during', 'been', 'on', 'has', 'myself', \"shouldn't\", 'him', 'she', 'yourselves', 'were', 'herself', \"should've\", 'them', 'between', 'where', 'am', 'by', 'had', 'he', \"you've\", 'mustn', 'did', 'such', 'm', 'after', 'below', 'further', 'which', 'most', \"that'll\", 'll', 'shouldn', 'nor', 'about', 'over', 'will', 'but', 'no', 'mightn', 'too', 'himself', 'each', 've', \"hasn't\", 'their', 'whom', 'ours', \"doesn't\", \"mightn't\", 'how', 'out', 'won', 'again', 'what', 'few', \"wasn't\", 'her', 'through', 'his', 'in', 't', 'before', 'any', 'some', 'we', 'so', 'of', 'against', 'until', 'into', 'all', 's', 'very', 'then', \"weren't\", 'you', 'ma', 'yourself', \"you'd\", 'as', 'me', 'a', 'hasn', 'while', 'wasn', 'have', 'off', 'my', 'other', 'are', 'i', 're', 'just', 'don', \"haven't\", 'the', 'ourselves', 'weren', 'here', 'up', 'aren', \"shan't\", 'at', 'with', 'couldn', 'does', 'because', 'its', 'only', 'hadn', 'when', \"she's\", 'and', 'or', 'this', 'why', 'who', 'that', 'being', \"needn't\", 'down', 'needn', 'itself', 'they', 'for', 'from', 'shan', \"you'll\", 'themselves', 'now', \"aren't\", 'doing', 'above', 'd', 'once', 'wouldn', 'there', \"won't\", 'should'}\n",
            "불용어 포함:  ['I', 'want', 'to', 'make', 'some', 'Instagram', 'filters', 'then', 'go', 'out', 'to', 'have', 'a', 'walk']\n",
            "불용어 미포함:  ['want', 'make', 'Instagram', 'filters', 'go', 'walk']\n"
          ],
          "name": "stdout"
        }
      ]
    },
    {
      "cell_type": "markdown",
      "metadata": {
        "id": "q-YTg7FITx4s",
        "colab_type": "text"
      },
      "source": [
        "### 명사/동사만 추출"
      ]
    },
    {
      "cell_type": "code",
      "metadata": {
        "id": "mksIPeaEUwJD",
        "colab_type": "code",
        "outputId": "467a9479-9fe1-4c40-f998-2b693290e356",
        "colab": {
          "base_uri": "https://localhost:8080/",
          "height": 230
        }
      },
      "source": [
        "import nltk\n",
        "nltk.download('punkt')\n",
        "nltk.download('averaged_perceptron_tagger')\n",
        "\n",
        "sen = \"Barack Hussein Obama II is an American polician who served as the 44th persident of the US from 2009 to 2017\"\n",
        "\n",
        "tokens = nltk.word_tokenize(sen)\n",
        "tagged = nltk.pos_tag(tokens)\n",
        "\n",
        "\n",
        "allnoun= []\n",
        "for word, pos in tagged:\n",
        "  if pos in ['NN','NNP']: #명사만 담겠다\n",
        "    allnoun.append(word)\n",
        "  \n",
        "print (\"형태소 분석 결과:\", tagged)\n",
        "print (\"명사만 추출 결과:\", allnoun)\n",
        "\n",
        "allverb=[]\n",
        "for word, pos in tagged:\n",
        "  if pos in ['VBZ','VBD']: #동사\n",
        "    allverb.append(word)\n",
        "\n",
        "print (\"동사만 추출 결과:\", allverb)"
      ],
      "execution_count": 0,
      "outputs": [
        {
          "output_type": "stream",
          "text": [
            "[nltk_data] Downloading package punkt to /root/nltk_data...\n",
            "[nltk_data]   Package punkt is already up-to-date!\n",
            "[nltk_data] Downloading package averaged_perceptron_tagger to\n",
            "[nltk_data]     /root/nltk_data...\n",
            "[nltk_data]   Package averaged_perceptron_tagger is already up-to-\n",
            "[nltk_data]       date!\n",
            "형태소 분석 결과: [('Barack', 'NNP'), ('Hussein', 'NNP'), ('Obama', 'NNP'), ('II', 'NNP'), ('is', 'VBZ'), ('an', 'DT'), ('American', 'JJ'), ('polician', 'NN'), ('who', 'WP'), ('served', 'VBD'), ('as', 'IN'), ('the', 'DT'), ('44th', 'CD'), ('persident', 'NN'), ('of', 'IN'), ('the', 'DT'), ('US', 'NNP'), ('from', 'IN'), ('2009', 'CD'), ('to', 'TO'), ('2017', 'CD')]\n",
            "명사만 추출 결과: ['Barack', 'Hussein', 'Obama', 'II', 'polician', 'persident', 'US']\n",
            "동사만 추출 결과: ['is', 'served']\n"
          ],
          "name": "stdout"
        }
      ]
    },
    {
      "cell_type": "markdown",
      "metadata": {
        "id": "6Y8y0wDOWMv0",
        "colab_type": "text"
      },
      "source": [
        "# **HTML Crawling + Cleaning + 명사만 추출**"
      ]
    },
    {
      "cell_type": "code",
      "metadata": {
        "id": "7ZMLrJ7eT2oC",
        "colab_type": "code",
        "outputId": "53bb8c8d-7637-40fc-bda8-42d793047c54",
        "colab": {
          "base_uri": "https://localhost:8080/",
          "height": 709
        }
      },
      "source": [
        "import nltk\n",
        "import urllib\n",
        "import re\n",
        "from bs4 import BeautifulSoup\n",
        "from nltk.corpus import stopwords\n",
        "import matplotlib\n",
        "import matplotlib.pyplot as plt\n",
        "import random\n",
        "\n",
        "nltk.download('stopwords')\n",
        "\n",
        "response = urllib.request.urlopen('http://python.org/') # crawling 대상 \n",
        "html = response.read() # 사이트 정보를 읽어서 html에 저장\n",
        "clean = BeautifulSoup(html,'html.parser').get_text() # beautifulsoup통한 cleaning\n",
        "\n",
        "tokens=[]\n",
        "for tok in clean.split():\n",
        "  tokens.append(tok)\n",
        "\n",
        "stop = set(stopwords.words('english')) # 불용어 선언\n",
        "\n",
        "clean_tokens=[]\n",
        "for tok in tokens:\n",
        "  if len(tok.lower())>1 and (tok.lower() not in stop):\n",
        "    clean_tokens.append(tok)\n",
        "\n",
        "tagged = nltk.pos_tag(clean_tokens) \n",
        "\n",
        "allnoun = []\n",
        "for word,pos in tagged:\n",
        "  if pos in ['NN','NNP']:\n",
        "    allnoun.append(word)\n",
        "\n",
        "Freq_dist_nltk = nltk.FreqDist(clean_tokens) #빈도 보여줌\n",
        "Freq_dist_nltk.plot(30, cumulative = False)\n",
        "\n",
        "Freq_dist_nltk = nltk.FreqDist(allnoun)\n",
        "Freq_dist_nltk.plot(30, cumulative = False)"
      ],
      "execution_count": 0,
      "outputs": [
        {
          "output_type": "stream",
          "text": [
            "[nltk_data] Downloading package stopwords to /root/nltk_data...\n",
            "[nltk_data]   Package stopwords is already up-to-date!\n"
          ],
          "name": "stdout"
        },
        {
          "output_type": "display_data",
          "data": {
            "image/png": "[encoded data removed]",
            "text/plain": [
              "<Figure size 432x288 with 1 Axes>"
            ]
          },
          "metadata": {
            "tags": []
          }
        },
        {
          "output_type": "display_data",
          "data": {
            "image/png": "[encoded data removed]",
            "text/plain": [
              "<Figure size 432x288 with 1 Axes>"
            ]
          },
          "metadata": {
            "tags": []
          }
        }
      ]
    },
    {
      "cell_type": "markdown",
      "metadata": {
        "id": "pU4Tx1paYR6z",
        "colab_type": "text"
      },
      "source": [
        "# **한국어 형태소 분석**"
      ]
    },
    {
      "cell_type": "code",
      "metadata": {
        "id": "koQi148pYVrP",
        "colab_type": "code",
        "outputId": "b7dc0742-5af9-4651-c185-eb8457ca56b0",
        "colab": {
          "base_uri": "https://localhost:8080/",
          "height": 398
        }
      },
      "source": [
        "!pip install konlpy"
      ],
      "execution_count": 0,
      "outputs": [
        {
          "output_type": "stream",
          "text": [
            "Requirement already satisfied: konlpy in /usr/local/lib/python3.6/dist-packages (0.5.2)\n",
            "Requirement already satisfied: colorama in /usr/local/lib/python3.6/dist-packages (from konlpy) (0.4.3)\n",
            "Requirement already satisfied: numpy>=1.6 in /usr/local/lib/python3.6/dist-packages (from konlpy) (1.18.2)\n",
            "Requirement already satisfied: JPype1>=0.7.0 in /usr/local/lib/python3.6/dist-packages (from konlpy) (0.7.2)\n",
            "Requirement already satisfied: tweepy>=3.7.0 in /usr/local/lib/python3.6/dist-packages (from konlpy) (3.8.0)\n",
            "Requirement already satisfied: lxml>=4.1.0 in /usr/local/lib/python3.6/dist-packages (from konlpy) (4.2.6)\n",
            "Requirement already satisfied: beautifulsoup4==4.6.0 in /usr/local/lib/python3.6/dist-packages (from konlpy) (4.6.0)\n",
            "Requirement already satisfied: requests>=2.11.1 in /usr/local/lib/python3.6/dist-packages (from tweepy>=3.7.0->konlpy) (2.21.0)\n",
            "Requirement already satisfied: PySocks>=1.5.7 in /usr/local/lib/python3.6/dist-packages (from tweepy>=3.7.0->konlpy) (1.7.1)\n",
            "Requirement already satisfied: six>=1.10.0 in /usr/local/lib/python3.6/dist-packages (from tweepy>=3.7.0->konlpy) (1.12.0)\n",
            "Requirement already satisfied: requests-oauthlib>=0.7.0 in /usr/local/lib/python3.6/dist-packages (from tweepy>=3.7.0->konlpy) (1.3.0)\n",
            "Requirement already satisfied: certifi>=2017.4.17 in /usr/local/lib/python3.6/dist-packages (from requests>=2.11.1->tweepy>=3.7.0->konlpy) (2019.11.28)\n",
            "Requirement already satisfied: chardet<3.1.0,>=3.0.2 in /usr/local/lib/python3.6/dist-packages (from requests>=2.11.1->tweepy>=3.7.0->konlpy) (3.0.4)\n",
            "Requirement already satisfied: urllib3<1.25,>=1.21.1 in /usr/local/lib/python3.6/dist-packages (from requests>=2.11.1->tweepy>=3.7.0->konlpy) (1.24.3)\n",
            "Requirement already satisfied: idna<2.9,>=2.5 in /usr/local/lib/python3.6/dist-packages (from requests>=2.11.1->tweepy>=3.7.0->konlpy) (2.8)\n",
            "Requirement already satisfied: oauthlib>=3.0.0 in /usr/local/lib/python3.6/dist-packages (from requests-oauthlib>=0.7.0->tweepy>=3.7.0->konlpy) (3.1.0)\n"
          ],
          "name": "stdout"
        }
      ]
    },
    {
      "cell_type": "code",
      "metadata": {
        "id": "Rj_opu2ZYmXa",
        "colab_type": "code",
        "outputId": "95e8d6d8-bc15-472b-f54b-747bde8efb30",
        "colab": {
          "base_uri": "https://localhost:8080/",
          "height": 68
        }
      },
      "source": [
        "from konlpy.tag import Okt\n",
        "from konlpy.tag import Kkma\n",
        "from konlpy.tag import Hannanum\n",
        "from konlpy.tag import Komoran\n",
        "from konlpy.tag import Twitter\n",
        "\n",
        "kkma = Kkma()\n",
        "okt = Okt()\n",
        "komoran = Komoran()\n",
        "twitter = Twitter()\n",
        "hannanum = Hannanum()\n",
        "\n",
        "# kkma만 문장 분리 가능\n",
        "print (\"kkma 문장 분리:\", kkma.sentences('네 안녕하세요 반갑습니다.'))\n",
        "\n"
      ],
      "execution_count": 0,
      "outputs": [
        {
          "output_type": "stream",
          "text": [
            "kkma 문장 분리: ['네 안녕하세요', '반갑습니다.']\n"
          ],
          "name": "stdout"
        },
        {
          "output_type": "stream",
          "text": [
            "/usr/local/lib/python3.6/dist-packages/konlpy/tag/_okt.py:16: UserWarning: \"Twitter\" has changed to \"Okt\" since KoNLPy v0.4.5.\n",
            "  warn('\"Twitter\" has changed to \"Okt\" since KoNLPy v0.4.5.')\n"
          ],
          "name": "stderr"
        }
      ]
    },
    {
      "cell_type": "code",
      "metadata": {
        "id": "6y6RPuvGZWzD",
        "colab_type": "code",
        "outputId": "162a5406-2785-4029-8359-474b505a3549",
        "colab": {
          "base_uri": "https://localhost:8080/",
          "height": 102
        }
      },
      "source": [
        "#형태소 분석 비교\n",
        "print ('okt:', okt.morphs(u\"집에 가면 감자 좀 쩌줄래?\"))\n",
        "print ('kkma:', kkma.morphs(u\"집에 가면 감자 좀 쩌줄래?\"))\n",
        "print ('hannanum:', hannanum.morphs(u\"집에 가면 감자 좀 쩌줄래?\"))\n",
        "print ('komoran:', komoran.morphs(u\"집에 가면 감자 좀 쩌줄래?\"))\n",
        "print ('twitter:', twitter.morphs(u\"집에 가면 감자 좀 쩌줄래?\"))"
      ],
      "execution_count": 0,
      "outputs": [
        {
          "output_type": "stream",
          "text": [
            "okt: ['집', '에', '가면', '감자', '좀', '쩌줄', '래', '?']\n",
            "kkma: ['집', '에', '가', '면', '감자', '좀', '쩌줄래', '?']\n",
            "hannanum: ['집', '에', '가', '면', '감', '자', '좀', '쩌줄래', '?']\n",
            "komoran: ['집', '에', '가', '면', '감자', '좀', '쩌', '주', 'ㄹ래', '?']\n",
            "twitter: ['집', '에', '가면', '감자', '좀', '쩌줄', '래', '?']\n"
          ],
          "name": "stdout"
        }
      ]
    },
    {
      "cell_type": "code",
      "metadata": {
        "id": "5izpjbLeZn0N",
        "colab_type": "code",
        "outputId": "294c25e3-a7ae-4d29-b8ee-1d2632e6d00f",
        "colab": {
          "base_uri": "https://localhost:8080/",
          "height": 142
        }
      },
      "source": [
        "# pos 비교\n",
        "print ('okt:', okt.pos(u\"집에 가면 감자 좀 쩌줄래?\"))\n",
        "print ('kkma:', kkma.pos(u\"집에 가면 감자 좀 쩌줄래?\"))\n",
        "print ('hannanum:', hannanum.pos(u\"집에 가면 감자 좀 쩌줄래?\"))\n",
        "print ('komoran:', komoran.pos(u\"집에 가면 감자 좀 쩌줄래?\"))\n",
        "print ('twitter:', twitter.pos(u\"집에 가면 감자 좀 쩌줄래?\"))"
      ],
      "execution_count": 0,
      "outputs": [
        {
          "output_type": "stream",
          "text": [
            "okt: [('집', 'Noun'), ('에', 'Josa'), ('가면', 'Noun'), ('감자', 'Noun'), ('좀', 'Noun'), ('쩌줄', 'Noun'), ('래', 'Josa'), ('?', 'Punctuation')]\n",
            "kkma: [('집', 'NNG'), ('에', 'JKM'), ('가', 'VV'), ('면', 'ECE'), ('감자', 'NNG'), ('좀', 'MAG'), ('쩌줄래', 'UN'), ('?', 'SF')]\n",
            "hannanum: [('집', 'N'), ('에', 'J'), ('가', 'P'), ('면', 'E'), ('감', 'P'), ('자', 'E'), ('좀', 'M'), ('쩌줄래', 'N'), ('?', 'S')]\n",
            "komoran: [('집', 'NNG'), ('에', 'JKB'), ('가', 'VV'), ('면', 'EC'), ('감자', 'NNP'), ('좀', 'MAG'), ('쩌', 'EF'), ('주', 'VX'), ('ㄹ래', 'EF'), ('?', 'SF')]\n",
            "twitter: [('집', 'Noun'), ('에', 'Josa'), ('가면', 'Noun'), ('감자', 'Noun'), ('좀', 'Noun'), ('쩌줄', 'Noun'), ('래', 'Josa'), ('?', 'Punctuation')]\n"
          ],
          "name": "stdout"
        }
      ]
    }
  ]
}